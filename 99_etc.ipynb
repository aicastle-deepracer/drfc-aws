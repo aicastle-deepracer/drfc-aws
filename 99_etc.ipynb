{
 "cells": [
  {
   "cell_type": "markdown",
   "metadata": {},
   "source": [
    "# ETC"
   ]
  },
  {
   "cell_type": "markdown",
   "metadata": {},
   "source": [
    "- ssh connect command"
   ]
  },
  {
   "cell_type": "code",
   "execution_count": null,
   "metadata": {},
   "outputs": [],
   "source": [
    "from aicastle.deepracer.drfc.aws import drfc\n",
    "print(drfc.get_ssh_connect_command())"
   ]
  },
  {
   "cell_type": "markdown",
   "metadata": {},
   "source": [
    "- ssh command"
   ]
  },
  {
   "cell_type": "code",
   "execution_count": null,
   "metadata": {},
   "outputs": [],
   "source": [
    "from aicastle.deepracer.drfc.aws import drfc\n",
    "ssh_command = (\n",
    "    \"cd ~/deepracer-for-cloud && \"\n",
    "    \"ls\"\n",
    ")\n",
    "output = drfc.ssh_command(ssh_command, prefix=False, err_output_print=True)\n",
    "print(output)"
   ]
  },
  {
   "cell_type": "markdown",
   "metadata": {},
   "source": [
    "- cat"
   ]
  },
  {
   "cell_type": "code",
   "execution_count": null,
   "metadata": {},
   "outputs": [],
   "source": [
    "from aicastle.deepracer.drfc.aws import drfc\n",
    "# print(drfc.cat_run_env())\n",
    "# print(drfc.cat_system_env())\n",
    "# print(drfc.cat_worker_env(worker_id=2))\n",
    "# print(drfc.cat_hyperparameters())\n",
    "# print(drfc.cat_model_metadata())\n",
    "# print(drfc.cat_reward_function())"
   ]
  },
  {
   "cell_type": "markdown",
   "metadata": {},
   "source": [
    "- mount"
   ]
  },
  {
   "cell_type": "code",
   "execution_count": null,
   "metadata": {},
   "outputs": [],
   "source": [
    "from aicastle.deepracer.drfc.aws import drfc\n",
    "drfc.mount()"
   ]
  },
  {
   "cell_type": "markdown",
   "metadata": {},
   "source": [
    "- unmount"
   ]
  },
  {
   "cell_type": "code",
   "execution_count": null,
   "metadata": {},
   "outputs": [],
   "source": [
    "from aicastle.deepracer.drfc.aws import drfc\n",
    "drfc.unmout()"
   ]
  }
 ],
 "metadata": {
  "kernelspec": {
   "display_name": "Python 3",
   "language": "python",
   "name": "python3"
  },
  "language_info": {
   "codemirror_mode": {
    "name": "ipython",
    "version": 3
   },
   "file_extension": ".py",
   "mimetype": "text/x-python",
   "name": "python",
   "nbconvert_exporter": "python",
   "pygments_lexer": "ipython3",
   "version": "3.12.1"
  }
 },
 "nbformat": 4,
 "nbformat_minor": 2
}
